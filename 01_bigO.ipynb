{
 "cells": [
  {
   "cell_type": "code",
   "execution_count": 2,
   "metadata": {},
   "outputs": [
    {
     "name": "stdout",
     "output_type": "stream",
     "text": [
      "컴퓨터 초당 연산 수:  100000000\n",
      "데이터 입력 크기:  100000\n"
     ]
    }
   ],
   "source": [
    "import math\n",
    "import time\n",
    "\n",
    "# 컴퓨터 초당 연산 수 (1억회)\n",
    "com = 10**8\n",
    "print('컴퓨터 초당 연산 수: ', com)\n",
    "N = 10**5\n",
    "print('데이터 입력 크기: ', N)"
   ]
  },
  {
   "cell_type": "code",
   "execution_count": 3,
   "metadata": {},
   "outputs": [
    {
     "name": "stdout",
     "output_type": "stream",
     "text": [
      "O(1) 연산 횟수: 1 \t\t 예상 실행 시간: 0.0000000100 초\n",
      "O(logN) 연산 횟수: 16.61 \t 예상 실행 시간: 0.0000001661 초\n",
      "O(N) 연산 횟수: 100000 \t\t 예상 실행 시간: 0.0010000000 초\n",
      "O(N logN) 연산 횟수: 1660964.05 \t 예상 실행 시간: 0.0166096405 초\n",
      "O(N^2) 연산 횟수: 10000000000 \t 예상 실행 시간: 100.00 초\n",
      "O(2^N) 연산 횟수: 2^100000 \t 예상 실행 시간: 10^30092 초 (컴퓨터 연산 불가!)\n"
     ]
    }
   ],
   "source": [
    "# O(log N) - 로그 연산 (log_2(N))\n",
    "def o_log_n():\n",
    "   return math.log2(N)\n",
    "\n",
    "# O(N) - 선형 연산 (1부터 N까지 합)\n",
    "def o_n():\n",
    "   return sum(range(N))\n",
    "\n",
    "# O(N log N) - 선형로그 연산 (∑ log_2 i)\n",
    "def o_n_log_n():\n",
    "   return sum(math.log(i) for i in range(1, N))\n",
    "\n",
    "# O(N^2) - 이차 연산 (모든 i, j 쌍의 곱)\n",
    "def o_n2():\n",
    "   total = 0\n",
    "   for i in range(N):\n",
    "      for j in range(N):\n",
    "         total += i * j\n",
    "   return total\n",
    "\n",
    "# O(2^N) - 지수 연산 (2^N)\n",
    "def o_2_n():\n",
    "   return 2**N\n",
    "\n",
    "# 이론적 실행 시간 계산 (연산 횟수 / 초당 연산 횟수)\n",
    "def estimate_time(N):\n",
    "   return N / com\n",
    "\n",
    "print(f\"O(1) 연산 횟수: 1 \\t\\t 예상 실행 시간: {estimate_time(1):.10f} 초\")\n",
    "print(f\"O(logN) 연산 횟수: {math.log2(N):.2f} \\t 예상 실행 시간: {estimate_time(math.log2(N)):.10f} 초\")\n",
    "print(f\"O(N) 연산 횟수: {N} \\t\\t 예상 실행 시간: {estimate_time(N):.10f} 초\")\n",
    "print(f\"O(N logN) 연산 횟수: {N * math.log2(N):.2f} \\t 예상 실행 시간: {estimate_time(N * math.log2(N)):.10f} 초\")\n",
    "print(f\"O(N^2) 연산 횟수: {N**2} \\t 예상 실행 시간: {estimate_time(N**2):.2f} 초\")\n",
    "print(f\"O(2^N) 연산 횟수: 2^100000 \\t 예상 실행 시간: 10^{30092} 초 (컴퓨터 연산 불가!)\")"
   ]
  }
 ],
 "metadata": {
  "kernelspec": {
   "display_name": "Python 3",
   "language": "python",
   "name": "python3"
  },
  "language_info": {
   "codemirror_mode": {
    "name": "ipython",
    "version": 3
   },
   "file_extension": ".py",
   "mimetype": "text/x-python",
   "name": "python",
   "nbconvert_exporter": "python",
   "pygments_lexer": "ipython3",
   "version": "3.12.9"
  }
 },
 "nbformat": 4,
 "nbformat_minor": 2
}
