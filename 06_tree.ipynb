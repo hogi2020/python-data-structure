{
 "cells": [
  {
   "cell_type": "code",
   "execution_count": null,
   "metadata": {},
   "outputs": [],
   "source": [
    "# 전위 순회\n",
    "def preorder(nodes, idx):\n",
    "   if idx < len(nodes):\n",
    "      ret = str(nodes[idx]) + \" \"\n",
    "      ret += preorder(nodes, idx * 2 + 1)\n",
    "      ret += preorder(nodes, idx * 2 + 2)\n",
    "      return ret\n",
    "   else:\n",
    "      return \"\"\n",
    "\n",
    "# 중위 순회\n",
    "def inorder(nodes, idx):\n",
    "   if idx < len(nodes):\n",
    "      ret = inorder(nodes, idx * 2 + 1)\n",
    "      ret += str(nodes[idx]) + \" \"\n",
    "      ret += inorder(nodes, idx * 2 + 2)\n",
    "      return ret\n",
    "   else:\n",
    "      return \"\"\n",
    "\n",
    "# 후위 순회\n",
    "def postorder(nodes, idx):\n",
    "   if idx < len(nodes):\n",
    "      ret = postorder(nodes, idx * 2 + 1)\n",
    "      ret += postorder(nodes, idx * 2 + 2)\n",
    "      ret += str(nodes[idx]) + \" \"\n",
    "      return ret\n",
    "   else:\n",
    "      return \"\"\n",
    "\n",
    "def solution(nodes):\n",
    "   # 전위, 중위, 후위 순회 결과 계산\n",
    "   return [\n",
    "      preorder(nodes, 0)[:-1],\n",
    "      inorder(nodes, 0)[:-1],\n",
    "      postorder(nodes, 0)[:-1]\n",
    "   ]"
   ]
  },
  {
   "cell_type": "code",
   "execution_count": 12,
   "metadata": {},
   "outputs": [
    {
     "name": "stdout",
     "output_type": "stream",
     "text": [
      "['1 2 4 5 3 6 7', '4 2 5 1 6 3 7', '4 5 2 6 7 3 1']\n"
     ]
    }
   ],
   "source": [
    "nodes = [1, 2, 3, 4, 5, 6, 7]\n",
    "print(solution(nodes))"
   ]
  }
 ],
 "metadata": {
  "kernelspec": {
   "display_name": "ojmenv",
   "language": "python",
   "name": "python3"
  },
  "language_info": {
   "codemirror_mode": {
    "name": "ipython",
    "version": 3
   },
   "file_extension": ".py",
   "mimetype": "text/x-python",
   "name": "python",
   "nbconvert_exporter": "python",
   "pygments_lexer": "ipython3",
   "version": "3.10.13"
  }
 },
 "nbformat": 4,
 "nbformat_minor": 2
}
