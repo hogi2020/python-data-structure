{
 "cells": [
  {
   "cell_type": "code",
   "execution_count": 3,
   "metadata": {},
   "outputs": [
    {
     "name": "stdout",
     "output_type": "stream",
     "text": [
      "['A', 'B', 'C', 'D', 'E', 'F', 'G']\n"
     ]
    }
   ],
   "source": [
    "# 깊이 우선 탐색\n",
    "from  collections import defaultdict\n",
    "\n",
    "graph = [['A','B'], ['B','C'], ['C','D'], ['C','G'], ['D','E'], ['E','F']]\n",
    "start = 'A'\n",
    "\n",
    "def solution(graph, start):\n",
    "   # 그래프를 인접 리스트로 변환\n",
    "   adj_list = defaultdict(list)\n",
    "   for u, v in graph:\n",
    "      adj_list[u].append(v)\n",
    "\n",
    "   # DFS 탐색 함수\n",
    "   def dfs(node, visited, result):\n",
    "      visited.add(node)      # 현재 노드를 방문한 노드들의 집합에 추가\n",
    "      result.append(node)    # 현재 노드를 결과 리스트에 추가\n",
    "      for neighbor in adj_list.get(node, []):   # 현재 노드와 인접한 노드 순회\n",
    "         if neighbor not in visited:            # 아직 방문하지 않은 노드라면\n",
    "            dfs(neighbor, visited, result)\n",
    "\n",
    "   visited = set()\n",
    "   result = []\n",
    "   dfs(start, visited, result)   # 시작 노드에서 깊이 우선 탐색 진행\n",
    "   return result                 # DFS 탐색 결과 반환\n",
    "\n",
    "print(solution(graph, start))"
   ]
  }
 ],
 "metadata": {
  "kernelspec": {
   "display_name": "ojmenv",
   "language": "python",
   "name": "python3"
  },
  "language_info": {
   "codemirror_mode": {
    "name": "ipython",
    "version": 3
   },
   "file_extension": ".py",
   "mimetype": "text/x-python",
   "name": "python",
   "nbconvert_exporter": "python",
   "pygments_lexer": "ipython3",
   "version": "3.10.13"
  }
 },
 "nbformat": 4,
 "nbformat_minor": 2
}
