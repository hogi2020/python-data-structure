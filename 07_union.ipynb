{
 "cells": [
  {
   "cell_type": "code",
   "execution_count": 27,
   "metadata": {},
   "outputs": [
    {
     "name": "stdout",
     "output_type": "stream",
     "text": [
      "초기 상태: [{1}, {2}, {3}, {4}, {5}]\n"
     ]
    }
   ],
   "source": [
    "list = []\n",
    "for i in range(5):\n",
    "   list.append({i+1})\n",
    "\n",
    "print(\"초기 상태:\", list)"
   ]
  },
  {
   "cell_type": "code",
   "execution_count": 19,
   "metadata": {},
   "outputs": [
    {
     "name": "stdout",
     "output_type": "stream",
     "text": [
      "1차 유니온 결과: [{1, 2}, {3}, {4}, {5}]\n"
     ]
    }
   ],
   "source": [
    "# 1차 유니온 진행\n",
    "def union(num1, num2):\n",
    "   idx1, idx2 = num1-1, num2-1\n",
    "   union_val = list[idx1].union(list[idx2])\n",
    "   list.pop(max(idx1, idx2))\n",
    "   list.pop(min(idx1, idx2))\n",
    "   list.insert(num1-1, union_val)\n",
    "   return list\n",
    "\n",
    "print(\"1차 유니온 결과:\", union(1, 2))"
   ]
  },
  {
   "cell_type": "code",
   "execution_count": 30,
   "metadata": {},
   "outputs": [
    {
     "name": "stdout",
     "output_type": "stream",
     "text": [
      "0\n"
     ]
    }
   ],
   "source": [
    "class UnionFind_v0:\n",
    "   def __init__(self, n):\n",
    "      self.parent = [i for i in range(n)]  # 처음엔 각 노드가 자기 자신을 부모로 가짐\n",
    "\n",
    "   def find(self, x):\n",
    "      if self.parent[x] != x:\n",
    "         self.parent[x] = self.find(self.parent[x])  # 부모를 루트로 갱신 (경로 압축)\n",
    "      return self.parent[x]\n",
    "\n",
    "   def union(self, x, y):\n",
    "      root_x = self.find(x)\n",
    "      root_y = self.find(y)\n",
    "      if root_x != root_y:\n",
    "         self.parent[root_y] = root_x  # 한 쪽을 다른 쪽에 연결\n",
    "\n",
    "# 사용 예제\n",
    "uf = UnionFind_v0(5)  # 5개의 원소 생성 (0~4)\n",
    "uf.union(0, 1)  # 0과 1을 합침\n",
    "uf.union(1, 2)  # 1과 2를 합침 (즉, 0-1-2 연결됨)\n",
    "print(uf.find(2))  # 0이 출력됨 (경로 압축으로 인해 2의 루트가 0이 됨)"
   ]
  },
  {
   "cell_type": "code",
   "execution_count": 20,
   "metadata": {},
   "outputs": [],
   "source": [
    "# 유니온-파인드 함수 구현\n",
    "class UnionFind:\n",
    "   def __init__(self, n):\n",
    "      self.parent = [i for i in range(n)]\n",
    "      self.rank = [1] * n\n",
    "\n",
    "   def find(self, x):\n",
    "      if self.parent[x] != x:\n",
    "         self.parent[x] = self.find(self.parent[x])  # 경로 압축\n",
    "      return self.parent[x]\n",
    "\n",
    "   def union(self, x, y):\n",
    "      root_x = self.find(x)\n",
    "      root_y = self.find(y)\n",
    "      \n",
    "      if root_x != root_y:\n",
    "         if self.rank[root_x] > self.rank[root_y]:\n",
    "            self.parent[root_y] = root_x\n",
    "         elif self.rank[root_x] < self.rank[root_y]:\n",
    "            self.parent[root_x] = root_y\n",
    "         else:\n",
    "            self.parent[root_y] = root_x\n",
    "            self.rank[root_x] += 1"
   ]
  },
  {
   "cell_type": "code",
   "execution_count": 24,
   "metadata": {},
   "outputs": [
    {
     "name": "stdout",
     "output_type": "stream",
     "text": [
      "[0, 1, 2, 3, 4]\n",
      "[1, 1, 1, 1, 1]\n",
      "[0, 0, 2, 3, 4]\n",
      "[2, 1, 1, 1, 1]\n",
      "[0, 0, 0, 3, 4]\n",
      "[2, 1, 1, 1, 1]\n"
     ]
    }
   ],
   "source": [
    "uf = UnionFind(5)\n",
    "print(uf.parent)\n",
    "print(uf.rank)\n",
    "\n",
    "uf.union(0, 1)\n",
    "print(uf.parent)\n",
    "print(uf.rank)\n",
    "\n",
    "uf.union(1, 2)\n",
    "print(uf.parent)\n",
    "print(uf.rank)"
   ]
  }
 ],
 "metadata": {
  "kernelspec": {
   "display_name": "ojmenv",
   "language": "python",
   "name": "python3"
  },
  "language_info": {
   "codemirror_mode": {
    "name": "ipython",
    "version": 3
   },
   "file_extension": ".py",
   "mimetype": "text/x-python",
   "name": "python",
   "nbconvert_exporter": "python",
   "pygments_lexer": "ipython3",
   "version": "3.10.13"
  }
 },
 "nbformat": 4,
 "nbformat_minor": 2
}
