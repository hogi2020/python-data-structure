{
 "cells": [
  {
   "cell_type": "code",
   "execution_count": 1,
   "metadata": {},
   "outputs": [],
   "source": [
    "stack = []     # 스택 리스트 초기화\n",
    "max_size = 10  # 스택의 최대 크기\n",
    "\n",
    "# 스택이 가득 찼는지 확인\n",
    "def isFull(stack):\n",
    "   return len(stack) == max_size\n",
    "\n",
    "# 스택이 비어 있는지 확인하는 함수\n",
    "def isEmpty(stack):\n",
    "   return len(stack) == 0\n",
    "   \n",
    "# 스택에 데이터를 추가하는 함수\n",
    "def push(stack, item):\n",
    "   if isFull(stack):\n",
    "      print(\"스택이 가득 찼습니다.\")\n",
    "   else:\n",
    "      stack.append(item)\n",
    "      print(\"데이터가 추가되었습니다.\")\n",
    "\n",
    "\n",
    "# 스택에서 데이터를 꺼내는 함수\n",
    "def pop(stack, item):\n",
    "   if isEmpty(stack):\n",
    "      print(\"스택이 비어있습니다.\")\n",
    "      return None\n",
    "   else:\n",
    "      print(\"데이터를 반환했습니다.\")\n",
    "      return stack.pop()"
   ]
  },
  {
   "cell_type": "code",
   "execution_count": 2,
   "metadata": {},
   "outputs": [],
   "source": [
    "# 괄호의 짝이 맞는 경우\n",
    "def solution(s):\n",
    "   stack = []\n",
    "   \n",
    "   for c in s:\n",
    "      if c == \"(\":\n",
    "         stack.append(c)\n",
    "      elif c == \")\":\n",
    "         stack.pop()\n",
    "   \n",
    "   if stack:\n",
    "      return False\n",
    "   else:\n",
    "      return True"
   ]
  },
  {
   "cell_type": "code",
   "execution_count": 3,
   "metadata": {},
   "outputs": [
    {
     "data": {
      "text/plain": [
       "1101"
      ]
     },
     "execution_count": 3,
     "metadata": {},
     "output_type": "execute_result"
    }
   ],
   "source": [
    "# 10진수를 입력받아 2진수로 변환해 반환하는 solution() 함수 구현\n",
    "def solution(num):\n",
    "   stack = []\n",
    "   while num > 0:\n",
    "      stack.append(str(num % 2))\n",
    "      num //= 2\n",
    "\n",
    "   binary = \"\"\n",
    "   while stack:\n",
    "      binary += stack.pop()\n",
    "   \n",
    "   return int(binary)\n",
    "\n",
    "solution(13)  # 2진수: 1101"
   ]
  }
 ],
 "metadata": {
  "kernelspec": {
   "display_name": "ojmenv",
   "language": "python",
   "name": "python3"
  },
  "language_info": {
   "codemirror_mode": {
    "name": "ipython",
    "version": 3
   },
   "file_extension": ".py",
   "mimetype": "text/x-python",
   "name": "python",
   "nbconvert_exporter": "python",
   "pygments_lexer": "ipython3",
   "version": "3.10.13"
  }
 },
 "nbformat": 4,
 "nbformat_minor": 2
}
