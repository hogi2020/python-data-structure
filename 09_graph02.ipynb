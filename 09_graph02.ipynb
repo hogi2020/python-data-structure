{
 "cells": [
  {
   "cell_type": "code",
   "execution_count": 12,
   "metadata": {},
   "outputs": [
    {
     "name": "stdout",
     "output_type": "stream",
     "text": [
      "[0, 1, 1, 0, 0]\n",
      "[1, 0, 0, 1, 0]\n",
      "[1, 0, 0, 0, 1]\n",
      "[0, 1, 0, 0, 0]\n",
      "[0, 0, 1, 0, 0]\n"
     ]
    }
   ],
   "source": [
    "# 그래프 구현 (초급편)\n",
    "class GraphMatrix:\n",
    "   \n",
    "   # size에 따른 0으로 이루어진 2차원 배열 생성\n",
    "   def __init__(self, size):\n",
    "      self.size = size\n",
    "      self.matrix = [[0] * size for _ in range(size)]\n",
    "\n",
    "   # \"u\"에서 \"v\"로 가는 간선을 2차원 배열에 0에서 1로 변환하여 표현\n",
    "   def add_edge(self, u, v):\n",
    "      self.matrix[u][v] = 1\n",
    "      self.matrix[v][u] = 1\n",
    "\n",
    "   # 그래프 출력\n",
    "   def display(self):\n",
    "      for row in self.matrix:\n",
    "         print(row)\n",
    "\n",
    "\n",
    "# 사용 예시\n",
    "graph = GraphMatrix(5)  # 5x5 행렬 표현\n",
    "graph.add_edge(0, 1)    # (0, 1) 간선 추가\n",
    "graph.add_edge(0, 2)    # (0, 2) 간선 추가\n",
    "graph.add_edge(1, 3)    # (1, 3) 간선 추가\n",
    "graph.add_edge(2, 4)    # (2, 4) 간선 추가\n",
    "graph.display()"
   ]
  },
  {
   "cell_type": "code",
   "execution_count": null,
   "metadata": {},
   "outputs": [
    {
     "name": "stdout",
     "output_type": "stream",
     "text": [
      "0 -> [1, 2]\n",
      "1 -> [0, 3]\n",
      "2 -> [0, 4]\n",
      "3 -> [1]\n",
      "4 -> [2]\n"
     ]
    }
   ],
   "source": [
    "# 그래프 구현 (중급편)\n",
    "class GraphList:\n",
    "   # 그래프 정보를 담을 graph 딕셔너리 생성\n",
    "   def __init__(self):\n",
    "      self.graph = {}\n",
    "\n",
    "   # \"v\"라는 노드 추가\n",
    "   def add_vertex(self, v):\n",
    "      if v not in self.graph:  # 중복 방지\n",
    "         self.graph[v] = []    # \"v\" 노드가 없으면 추가\n",
    "\n",
    "   # \"u\"에서 \"v\"로 가는 무방향 간선 추가\n",
    "   def add_edge(self, u, v):\n",
    "      if u not in self.graph:\n",
    "         self.add_vertex(u)    # \"u\" 노드가 없으면 추가\n",
    "      if v not in self.graph:\n",
    "         self.add_vertex(v)    # \"v\" 노드가 없으면 추가\n",
    "\n",
    "      # 무방향 간선 추가\n",
    "      # 인접행렬의 self.matrix[u][v] = 1, self.matrix[v][u] = 1 유사\n",
    "      self.graph[u].append(v)\n",
    "      self.graph[v].append(u)\n",
    "\n",
    "   # 그래프 출력 (노드는 키, 연결된 노드는 값)\n",
    "   def display(self):\n",
    "      for key in self.graph:\n",
    "         print(f\"{key} -> {self.graph[key]}\")\n",
    "\n",
    "\n",
    "# 사용 예시\n",
    "graph = GraphList()    # 그래프 생성\n",
    "graph.add_edge(0, 1)   # (0, 1) 간선 추가\n",
    "graph.add_edge(0, 2)   # (0, 2) 간선 추가\n",
    "graph.add_edge(1, 3)   # (1, 3) 간선 추가\n",
    "graph.add_edge(2, 4)    # (2, 4) 간선 추가\n",
    "graph.display()        # 노드는 키, 연결된 노드는 값으로 출력"
   ]
  },
  {
   "cell_type": "code",
   "execution_count": null,
   "metadata": {},
   "outputs": [
    {
     "name": "stdout",
     "output_type": "stream",
     "text": [
      "0 visited: {0} \t deque([1, 2])\n",
      "1 visited: {0, 1} \t deque([2, 0, 3])\n",
      "2 visited: {0, 1, 2} \t deque([0, 3, 0, 4])\n",
      "3 visited: {0, 1, 2, 3} \t deque([0, 4, 1])\n",
      "4 visited: {0, 1, 2, 3, 4} \t deque([1, 2])\n"
     ]
    }
   ],
   "source": [
    "# 너비 우선 탐색 (BFS)\n",
    "# deque는 양방향 큐로 양쪽 끝에서 데이터 삽입 삭제가 가능한 큐 입니다.\n",
    "from collections import deque\n",
    "\n",
    "class GraphListBFS(GraphList):\n",
    "   def bfs(self, start):\n",
    "      visited = set()            # 방문한 노드를 저장할 집합\n",
    "      queue = deque([start])     # 탐색할 노드를 저장할 큐 생성\n",
    "\n",
    "      while queue:\n",
    "         node = queue.popleft()  # 큐에서 노드 추출\n",
    "         if node not in visited:\n",
    "            visited.add(node)              # 방문한 노드 추가\n",
    "            queue.extend(self.graph[node]) # 인접 노드를 큐에 추가\n",
    "            print(node, \"visited:\", visited, '\\t', queue)\n",
    "\n",
    "\n",
    "# 사용 예시\n",
    "graph = GraphListBFS()  # 그래프 생성\n",
    "graph.add_edge(0, 1)    # (0, 1) 간선 추가\n",
    "graph.add_edge(0, 2)    # (0, 2) 간선 추가\n",
    "graph.add_edge(1, 3)    # (1, 3) 간선 추가\n",
    "graph.add_edge(2, 4)    # (2, 4) 간선 추가\n",
    "graph.bfs(0)"
   ]
  },
  {
   "cell_type": "code",
   "execution_count": 45,
   "metadata": {},
   "outputs": [
    {
     "name": "stdout",
     "output_type": "stream",
     "text": [
      "DFS 탐색 결과\n",
      "-- 0   visited: set() \t conn_node: [1, 2]\n",
      "------ 1   visited: {0} \t conn_node: [0, 3]\n",
      "------     Already visited 0\n",
      "---------- 3   visited: {0, 1} \t conn_node: [1]\n",
      "----------     Already visited 1\n",
      "------ 2   visited: {0, 1, 3} \t conn_node: [0, 4]\n",
      "------     Already visited 0\n",
      "---------- 4   visited: {0, 1, 2, 3} \t conn_node: [2]\n",
      "----------     Already visited 2\n"
     ]
    }
   ],
   "source": [
    "# 깊이 우선 탐색 (DFS)\n",
    "class GraphListDFS(GraphList):\n",
    "   def dfs(self, start_node, num=1, visited=None):\n",
    "      # DFS 탐색 (재귀함수이므로 조건문 필요)\n",
    "      if visited is None:\n",
    "         visited = set()\n",
    "      \n",
    "      # 탐색 노드 방문 처리\n",
    "      print(\"--\"*num, start_node, \"  visited:\", visited, \"\\t\", \"conn_node:\", self.graph[start_node])\n",
    "      visited.add(start_node)\n",
    "\n",
    "      # 시작 노드와 연결된 노드를 재귀적으로 탐색합니다.\n",
    "      for conn_node in self.graph[start_node]:\n",
    "         if conn_node not in visited:\n",
    "            self.dfs(conn_node, num+2, visited)\n",
    "         else:\n",
    "            print(\"--\"*num, \"    Already visited\", conn_node)\n",
    "\n",
    "\n",
    "# 사용 예시\n",
    "print(\"DFS 탐색 결과\")\n",
    "graph = GraphListDFS()\n",
    "graph.add_edge(0, 1)\n",
    "graph.add_edge(0, 2)\n",
    "graph.add_edge(1, 3)\n",
    "graph.add_edge(2, 4)\n",
    "graph.dfs(0)"
   ]
  },
  {
   "cell_type": "code",
   "execution_count": null,
   "metadata": {},
   "outputs": [
    {
     "name": "stdout",
     "output_type": "stream",
     "text": [
      "0 -> 0: 거리 0\n",
      "0 -> 1: 거리 4\n",
      "0 -> 2: 거리 1\n",
      "0 -> 3: 거리 5\n",
      "0 -> 4: 거리 3\n"
     ]
    }
   ],
   "source": [
    "# 가중 그래프 및 최단 경로\n",
    "# 우선순위 큐를 사용하기 위한 heapq 모듈\n",
    "import heapq\n",
    "\n",
    "class WeightedGraph:\n",
    "   def __init__(self):\n",
    "      self.graph = {}\n",
    "   \n",
    "   # 노드, 연결노드, 가중치 추가\n",
    "   def add_edge(self, u, v, weight):\n",
    "      if u not in self.graph:\n",
    "         self.graph[u] = []\n",
    "      if v not in self.graph:\n",
    "         self.graph[v] = []\n",
    "\n",
    "      # 노드에 (연결노드, 가중치) 형태를 값으로 저장\n",
    "      self.graph[u].append((v, weight))\n",
    "      self.graph[v].append((u, weight))\n",
    "   \n",
    "   # 다익스트라 최단 경로 알고리즘\n",
    "   def dijkstra(self, start_node):\n",
    "      # 1. 최단 거리 테이블 (무한대 초기화)\n",
    "      distances = {node: float('inf') for node in self.graph}\n",
    "      distances[start_node] = 0\n",
    "\n",
    "      # 2. 우선순위 큐\n",
    "      pq = [(0, start_node)]\n",
    "\n",
    "      while pq:\n",
    "         # 3. 현재까지의 최단 거리가 가장 짧은 노드를 가져옴\n",
    "         current_distance, current_node = heapq.heappop(pq)\n",
    "         if current_distance > distances[current_node]:\n",
    "            continue\n",
    "\n",
    "         # 4. 현재 노드와 연결된 인접 노드 확인\n",
    "         for conn_node, weight in self.graph[current_node]:\n",
    "            distance = current_distance + weight\n",
    "            # 5. 기존 거리보다 더 짧은 경로를 찾으면 업데이트\n",
    "            if distance < distances[conn_node]:\n",
    "               distances[conn_node] = distance\n",
    "               heapq.heappush(pq, (distance, conn_node))\n",
    "   \n",
    "      return distances\n",
    "\n",
    "\n",
    "# 사용 예시\n",
    "graph = WeightedGraph()\n",
    "graph.add_edge(0, 1, 4)\n",
    "graph.add_edge(0, 2, 1)\n",
    "graph.add_edge(1, 3, 1)\n",
    "graph.add_edge(2, 4, 2)\n",
    "\n",
    "for node in graph.dijkstra(0):\n",
    "   print(f\"0 -> {node}:\", \"거리\", graph.dijkstra(0)[node])"
   ]
  }
 ],
 "metadata": {
  "kernelspec": {
   "display_name": "ojmenv",
   "language": "python",
   "name": "python3"
  },
  "language_info": {
   "codemirror_mode": {
    "name": "ipython",
    "version": 3
   },
   "file_extension": ".py",
   "mimetype": "text/x-python",
   "name": "python",
   "nbconvert_exporter": "python",
   "pygments_lexer": "ipython3",
   "version": "3.10.13"
  }
 },
 "nbformat": 4,
 "nbformat_minor": 2
}
