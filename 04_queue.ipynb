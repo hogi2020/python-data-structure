{
 "cells": [
  {
   "cell_type": "code",
   "execution_count": 2,
   "metadata": {},
   "outputs": [
    {
     "name": "stdout",
     "output_type": "stream",
     "text": [
      "1\n",
      "2\n"
     ]
    }
   ],
   "source": [
    "queue = []\n",
    "\n",
    "# 큐에 데이터 추가\n",
    "queue.append(1)\n",
    "queue.append(2)\n",
    "queue.append(3)\n",
    "\n",
    "# 큐의 맨 앞 데이터 제거\n",
    "first_item = queue.pop(0)\n",
    "print(first_item)\n",
    "\n",
    "# 큐에 데이터 추가\n",
    "queue.append(4)\n",
    "queue.append(5)\n",
    "\n",
    "first_item = queue.pop(0)\n",
    "print(first_item)"
   ]
  },
  {
   "cell_type": "code",
   "execution_count": 3,
   "metadata": {},
   "outputs": [
    {
     "name": "stdout",
     "output_type": "stream",
     "text": [
      "1\n",
      "2\n"
     ]
    }
   ],
   "source": [
    "from collections import deque\n",
    "\n",
    "# 덱은 Double Ended Queue를 줄인 말로 양 끝에서 삽입하고 삭제할 수 있습니다.\n",
    "queue = deque()\n",
    "\n",
    "# 큐에 데이터 추가\n",
    "queue.append(1)\n",
    "queue.append(2)\n",
    "queue.append(3)\n",
    "\n",
    "# 큐의 맨 앞 데이터 제거\n",
    "first_item = queue.popleft()\n",
    "print(first_item)\n",
    "\n",
    "first_item = queue.popleft()\n",
    "print(first_item)"
   ]
  },
  {
   "cell_type": "code",
   "execution_count": null,
   "metadata": {},
   "outputs": [
    {
     "name": "stdout",
     "output_type": "stream",
     "text": [
      "pop(0) 소요시간:  0.8856086730957031\n",
      "popleft() 소요 시간:  0.007999897003173828\n"
     ]
    }
   ],
   "source": [
    "from collections import deque\n",
    "import time\n",
    "\n",
    "lst = list(range(100000))\n",
    "dq = deque(range(100000))\n",
    "\n",
    "# pop(0) 성능 측정\n",
    "start_time = time.time()\n",
    "for i in range(100000):\n",
    "   lst.pop(0)\n",
    "print(\"pop(0) 소요시간: \", time.time() - start_time)\n",
    "# 0.8856086730957031\n",
    "\n",
    "# popleft() 성능 측정\n",
    "start_time = time.time()\n",
    "for i in range(100000):\n",
    "   dq.popleft()\n",
    "print(\"popleft() 소요 시간: \", time.time() - start_time)\n",
    "# 0.007999897003173828"
   ]
  },
  {
   "cell_type": "code",
   "execution_count": 6,
   "metadata": {},
   "outputs": [
    {
     "name": "stdout",
     "output_type": "stream",
     "text": [
      "3\n",
      "소요시간:  0.0\n"
     ]
    }
   ],
   "source": [
    "# 요세푸스 문제\n",
    "# N명의 사람이 원 형태로 서 있습니다. \n",
    "# 각 사람은 1부터 N까지 번호표를 갖고 있습니다.\n",
    "# 그리고 임의의 숫자 K가 주어졌을 때 다음과 같이 사람을 없앱니다.\n",
    "# - 1번 번호표를 가진 사람을 기준으로 K번째 사람을 없앱니다.\n",
    "# - 없앤 사람 다음 사람을 기준으로 하고 다시 K번째 사람을 없앱니다.\n",
    "# 마지막에 살아있는 사람의 번호를 반환하는 solution() 함수를 구현해주세요.\n",
    "from collections import deque\n",
    "import time\n",
    "\n",
    "def solution(N, K):\n",
    "   # 1부터 N까지의 번호를 queue에 추가\n",
    "   queue = deque(range(1, N+1))\n",
    "\n",
    "   while len(queue) > 1:\n",
    "      for _ in range(K-1):\n",
    "         queue.append(queue.popleft())\n",
    "         queue.popleft()\n",
    "      return queue[0]\n",
    "\n",
    "start_time = time.time()\n",
    "print(solution(5, 2))\n",
    "print(\"소요시간: \", time.time() - start_time)"
   ]
  }
 ],
 "metadata": {
  "kernelspec": {
   "display_name": "ojmenv",
   "language": "python",
   "name": "python3"
  },
  "language_info": {
   "codemirror_mode": {
    "name": "ipython",
    "version": 3
   },
   "file_extension": ".py",
   "mimetype": "text/x-python",
   "name": "python",
   "nbconvert_exporter": "python",
   "pygments_lexer": "ipython3",
   "version": "3.10.13"
  }
 },
 "nbformat": 4,
 "nbformat_minor": 2
}
